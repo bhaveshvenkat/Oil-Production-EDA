{
 "cells": [
  {
   "cell_type": "code",
   "execution_count": 1,
   "metadata": {},
   "outputs": [],
   "source": [
    "# !pip install tqdm"
   ]
  },
  {
   "cell_type": "code",
   "execution_count": 2,
   "metadata": {},
   "outputs": [],
   "source": [
    "import lasio\n",
    "import os\n",
    "import pandas as pd\n",
    "import numpy as np\n",
    "import seaborn as sns\n",
    "import matplotlib.pyplot as plt\n",
    "from tqdm import tqdm"
   ]
  },
  {
   "cell_type": "code",
   "execution_count": 3,
   "metadata": {},
   "outputs": [
    {
     "name": "stderr",
     "output_type": "stream",
     "text": [
      "Processing LAS files: 100%|████████████████████████████████████████████████████████████| 46/46 [03:28<00:00,  4.54s/it]"
     ]
    },
    {
     "name": "stdout",
     "output_type": "stream",
     "text": [
      "Curve summary saved to 'curve_summary.csv'\n"
     ]
    },
    {
     "name": "stderr",
     "output_type": "stream",
     "text": [
      "\n"
     ]
    }
   ],
   "source": [
    "path_las_file=r'.\\combined wells'\n",
    "# List all LAS files in the directory\n",
    "las_files = [file for file in os.listdir(path_las_file) if file.endswith('.las')]\n",
    "\n",
    "# Create an empty DataFrame to store curve information\n",
    "curve_summary = pd.DataFrame(columns=['Well Name'] + sorted(set(curve for file in las_files for curve in lasio.read(os.path.join(path_las_file, file)).keys())))\n",
    "\n",
    "# Iterate over each LAS file with tqdm for progress bar\n",
    "for las_file in tqdm(las_files, desc=\"Processing LAS files\"):\n",
    "    # Extract well name (remove '.las' extension)\n",
    "    well_name = os.path.splitext(las_file)[0]\n",
    "    \n",
    "    # Read LAS file\n",
    "    try:\n",
    "        lfile = lasio.read(os.path.join(path_las_file, las_file))\n",
    "    except Exception as e:\n",
    "        print(f\"Error reading {las_file}: {e}\")\n",
    "        continue\n",
    "    \n",
    "    # Get list of curves present in the LAS file\n",
    "    curves_in_file = set(lfile.keys())\n",
    "    \n",
    "    # Create a row for the current well in the DataFrame\n",
    "    row = {'Well Name': well_name}\n",
    "    for curve in curve_summary.columns[1:]:\n",
    "        row[curve] = 'Yes' if curve in curves_in_file else 'No'\n",
    "    \n",
    "    # Append row to the DataFrame using pd.concat()\n",
    "    curve_summary = pd.concat([curve_summary, pd.DataFrame([row])], ignore_index=True)\n",
    "\n",
    "# Save the curve summary DataFrame to a CSV file\n",
    "output_csv_file = 'curve_summary.csv'\n",
    "curve_summary.to_csv(output_csv_file, index=False)\n",
    "\n",
    "print(f\"Curve summary saved to '{output_csv_file}'\")"
   ]
  },
  {
   "cell_type": "code",
   "execution_count": null,
   "metadata": {},
   "outputs": [],
   "source": []
  }
 ],
 "metadata": {
  "kernelspec": {
   "display_name": "Python 3",
   "language": "python",
   "name": "python3"
  },
  "language_info": {
   "codemirror_mode": {
    "name": "ipython",
    "version": 3
   },
   "file_extension": ".py",
   "mimetype": "text/x-python",
   "name": "python",
   "nbconvert_exporter": "python",
   "pygments_lexer": "ipython3",
   "version": "3.8.5"
  }
 },
 "nbformat": 4,
 "nbformat_minor": 5
}
